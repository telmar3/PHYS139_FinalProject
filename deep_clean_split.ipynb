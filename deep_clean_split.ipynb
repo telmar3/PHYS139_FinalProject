{
 "cells": [
  {
   "cell_type": "code",
   "execution_count": 2,
   "metadata": {},
   "outputs": [
    {
     "name": "stdout",
     "output_type": "stream",
     "text": [
      "(16781312, 21)\n",
      "(16781312,)\n"
     ]
    }
   ],
   "source": [
    "import numpy as np\n",
    "import h5py\n",
    "\n",
    "with h5py.File(\"/home/ljian/private/PHYS 139 Final Project/deepclean-1251335314-4097.h5\", \"r\") as f:\n",
    "    X = []\n",
    "    for channel, timeseries in f.items():\n",
    "        if channel == \"H1:GDS-CALIB_STRAIN\":\n",
    "            y = timeseries[:]\n",
    "        else:\n",
    "            X.append(timeseries[:])\n",
    "\n",
    "X = np.stack(X, axis=-1)\n",
    "\n",
    "print(X.shape)\n",
    "print(y.shape)"
   ]
  },
  {
   "cell_type": "code",
   "execution_count": 3,
   "metadata": {},
   "outputs": [
    {
     "name": "stdout",
     "output_type": "stream",
     "text": [
      "(13425049, 21)\n",
      "(13425049,)\n",
      "(3356263, 21)\n",
      "(3356263,)\n"
     ]
    }
   ],
   "source": [
    "train_max_index = int(X.shape[0] * 4 / 5)\n",
    "\n",
    "X_train = X[:train_max_index]\n",
    "y_train = y[:train_max_index]\n",
    "\n",
    "X_test = X[train_max_index:]\n",
    "y_test = y[train_max_index:]\n",
    "\n",
    "print(X_train.shape)\n",
    "print(y_train.shape)\n",
    "\n",
    "print(X_test.shape)\n",
    "print(y_test.shape)"
   ]
  },
  {
   "cell_type": "code",
   "execution_count": 4,
   "metadata": {},
   "outputs": [
    {
     "name": "stdout",
     "output_type": "stream",
     "text": [
      "(1638, 8192, 21)\n",
      "(1638, 8192)\n"
     ]
    }
   ],
   "source": [
    "window_length = 2 # s\n",
    "sample_rate = 4096 # Hz\n",
    "window_size = window_length * sample_rate\n",
    "\n",
    "# train_batches in your code is currently 1000, which is fine, \n",
    "# but i set it here to int(total time steps / window size).\n",
    "train_batches = int(X_train.shape[0]/window_size) \n",
    "X_train_batch, y_train_batch = [], []\n",
    "for i in range(train_batches):\n",
    "    idx = np.random.randint(X_train.shape[0] - window_size)\n",
    "    X_train_batch.append(X_train[idx: idx + window_size])\n",
    "    y_train_batch.append(y_train[idx: idx + window_size])\n",
    "\n",
    "X_train_batch = np.stack(X_train_batch)\n",
    "y_train_batch = np.stack(y_train_batch)\n",
    "\n",
    "print(X_train_batch.shape)\n",
    "print(y_train_batch.shape)"
   ]
  },
  {
   "cell_type": "code",
   "execution_count": null,
   "metadata": {},
   "outputs": [],
   "source": [
    "# the idea here is the test data should be fixed and not randomized/shuffled\n",
    "# so we're just going to grab as many contiguous slices of it as we can\n",
    "test_batches = int(X_test.shape[0]/window_size)\n",
    "X_test_batch, y_test_batch = [], []\n",
    "for i in range(test_batches):\n",
    "    idx = i * window_size\n",
    "    X_test_batch.append(X_test[idx: idx + window_size])\n",
    "    y_test_batch.append(y_test[idx: idx + window_size])\n",
    "\n",
    "X_test_batch = np.stack(X_test_batch)\n",
    "y_test_batch = np.stack(y_test_batch)\n",
    "\n",
    "print(X_test_batch.shape)\n",
    "print(y_test_batch.shape)"
   ]
  },
  {
   "cell_type": "code",
   "execution_count": null,
   "metadata": {},
   "outputs": [],
   "source": [
    "def send_train_test():\n",
    "    \"\"\"\n",
    "    strain_mean == mean of data used for z-score\n",
    "    strain_std = std dev used for z-score\n",
    "    \n",
    "    Will be needed in post processing. Call function to return the old mean and std dev to reverse z-score\n",
    "    \"\"\"\n",
    "    return X_train_batch, y_train_batch, X_test_batch, y_test_batch"
   ]
  }
 ],
 "metadata": {
  "kernelspec": {
   "display_name": "Python 3 (ipykernel)",
   "language": "python",
   "name": "python3"
  },
  "language_info": {
   "codemirror_mode": {
    "name": "ipython",
    "version": 3
   },
   "file_extension": ".py",
   "mimetype": "text/x-python",
   "name": "python",
   "nbconvert_exporter": "python",
   "pygments_lexer": "ipython3",
   "version": "3.9.5"
  }
 },
 "nbformat": 4,
 "nbformat_minor": 2
}
