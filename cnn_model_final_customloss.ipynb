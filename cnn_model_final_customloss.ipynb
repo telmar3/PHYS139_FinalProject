{
  "cells": [
    {
      "cell_type": "code",
      "execution_count": null,
      "id": "ed8eb433",
      "metadata": {
        "id": "ed8eb433"
      },
      "outputs": [],
      "source": [
        "import tensorflow as tf\n",
        "from tensorflow import keras\n",
        "from tensorflow.keras import layers\n",
        "tf.test.is_gpu_available()"
      ]
    },
    {
      "cell_type": "code",
      "execution_count": null,
      "id": "90299e4e",
      "metadata": {
        "id": "90299e4e"
      },
      "outputs": [],
      "source": [
        "#Import data from preprocessing file\n",
        "from ipynb.fs.full.data_preprocessing import send_freq_data, send_time_data\n",
        "import matplotlib.pyplot as plt\n",
        "import numpy as np\n",
        "\n",
        "freq_data_train, fstrain_data_train, freq_data_test, fstrain_data_test = send_freq_data()\n",
        "witness_data_train, tstrain_data_train, witness_data_test, tstrain_data_test = send_time_data()\n",
        "\n",
        "print(witness_data_train.shape, tstrain_data_train.shape,\n",
        "      witness_data_test.shape, tstrain_data_test.shape)"
      ]
    },
    {
      "cell_type": "markdown",
      "id": "be3f002b",
      "metadata": {
        "id": "be3f002b"
      },
      "source": [
        "# DeepClean"
      ]
    },
    {
      "cell_type": "code",
      "execution_count": null,
      "id": "84c6d885",
      "metadata": {
        "scrolled": true,
        "id": "84c6d885"
      },
      "outputs": [],
      "source": [
        "model = keras.models.Sequential(name=\"deepclean\")\n",
        "#Convolution Layers\n",
        "model.add(layers.Conv1D(filters=21, kernel_size=7, strides=1, padding=\"same\", activation=\"tanh\",\\\n",
        "                        input_shape=(witness_data_train.shape[1], witness_data_train.shape[2])))\n",
        "model.add(layers.BatchNormalization())\n",
        "model.add(layers.Conv1D(filters=8, kernel_size=7, strides=2, padding=\"same\", activation=\"tanh\"))\n",
        "model.add(layers.BatchNormalization())\n",
        "model.add(layers.Conv1D(filters=16, kernel_size=7, strides=2, padding=\"same\", activation=\"tanh\"))\n",
        "model.add(layers.BatchNormalization())\n",
        "model.add(layers.Conv1D(filters=32, kernel_size=7, strides=2, padding=\"same\", activation=\"tanh\"))\n",
        "model.add(layers.BatchNormalization())\n",
        "model.add(layers.Conv1D(filters=64, kernel_size=7, strides=2, padding=\"same\", activation=\"tanh\"))\n",
        "model.add(layers.BatchNormalization())\n",
        "\n",
        "#Deconvolution Layers\n",
        "model.add(layers.Conv1DTranspose(filters=32, kernel_size=7, strides=2, padding=\"same\", activation=\"tanh\"))\n",
        "model.add(layers.BatchNormalization())\n",
        "model.add(layers.Conv1DTranspose(filters=16, kernel_size=7, strides=2, padding=\"same\", activation=\"tanh\"))\n",
        "model.add(layers.BatchNormalization())\n",
        "model.add(layers.Conv1DTranspose(filters=8, kernel_size=7, strides=2, padding=\"same\", activation=\"tanh\"))\n",
        "model.add(layers.BatchNormalization())\n",
        "model.add(layers.Conv1DTranspose(filters=21, kernel_size=7, strides=2, padding=\"same\", activation=\"tanh\"))\n",
        "model.add(layers.BatchNormalization())\n",
        "model.add(layers.Conv1D(filters=1, kernel_size=7, padding=\"same\", name = \"output\"))\n",
        "\n",
        "model.summary()\n",
        "\n",
        "#non-trainable parameters come from the BatchNormalization"
      ]
    },
    {
      "cell_type": "code",
      "source": [
        "frame_length = window_length\n",
        "frame_step = window_size\n",
        "fft_length = window_length*sample_rate\n",
        "\n",
        "def custom_loss_function(y_true, y_pred):\n",
        "    w = 0.8  # relative weight factor for J_asd \n",
        "    h = y_true\n",
        "    r = tf.square(tf.subtract(y_true,y_pred))\n",
        "    asdr = tf.signal.stft(r,frame_length=frame_length, \n",
        "                                     frame_step=frame_step, \n",
        "                                     fft_length=fft_length, \n",
        "                                     window_fn=tf.signal.hann_window)\n",
        "    asdh = tf.signal.stft(h,frame_length=frame_length, \n",
        "                                     frame_step=frame_step, \n",
        "                                     fft_length=fft_length, \n",
        "                                     window_fn=tf.signal.hann_window)\n",
        "    ratio = tf.abs(asdr)/tf.abs(asdh)\n",
        "    J_asd = tf.reduce_mean(ratio)\n",
        "    J_mse = tf.reduce_mean(r)\n",
        "    J = w*J_asd + (1-w)*J_mse  #Net loss with weighted ASD and MSE loss components\n",
        "    return J"
      ],
      "metadata": {
        "id": "_JerlUqE1T4-"
      },
      "id": "_JerlUqE1T4-",
      "execution_count": null,
      "outputs": []
    },
    {
      "cell_type": "code",
      "execution_count": null,
      "id": "86f5ef49",
      "metadata": {
        "scrolled": true,
        "id": "86f5ef49"
      },
      "outputs": [],
      "source": [
        "import numpy as np\n",
        "\n",
        "lr_schedule = keras.optimizers.schedules.ExponentialDecay(initial_learning_rate=1e-3, decay_steps=100, decay_rate=0.8)\n",
        "\n",
        "#model.compile(loss=\"mse\", optimizer=keras.optimizers.Adam(learning_rate=lr_schedule))\n",
        "model.compile(loss=custom_loss_function, optimizer=keras.optimizers.Adam(learning_rate=lr_schedule))\n",
        "\n",
        "results = model.fit(\n",
        "    witness_data_train,\n",
        "    tstrain_data_train,\n",
        "    batch_size=32,\n",
        "    epochs=10,\n",
        "    verbose=1,\n",
        "    validation_split=0.1,\n",
        "    callbacks=[\n",
        "        keras.callbacks.ReduceLROnPlateau(factor=0.5, patience=5, verbose=1, min_lr=1e-5),\n",
        "                keras.callbacks.EarlyStopping(patience=10, verbose=1),\n",
        "    ],\n",
        ")"
      ]
    },
    {
      "cell_type": "code",
      "execution_count": null,
      "id": "6fc92cc2",
      "metadata": {
        "id": "6fc92cc2",
        "outputId": "5b652ee5-c7f8-4076-8f63-698cd096e6d1"
      },
      "outputs": [
        {
          "data": {
            "image/png": "[encoded data removed]",
            "text/plain": [
              "<Figure size 432x288 with 1 Axes>"
            ]
          },
          "metadata": {
            "needs_background": "light"
          },
          "output_type": "display_data"
        },
        {
          "data": {
            "text/plain": [
              "<Figure size 1440x720 with 0 Axes>"
            ]
          },
          "metadata": {},
          "output_type": "display_data"
        }
      ],
      "source": [
        "#History plot from plotting.py\n",
        "from matplotlib import figure\n",
        "import matplotlib.pyplot as plt\n",
        "\n",
        "loss = results.history[\"loss\"]\n",
        "val_loss = results.history[\"val_loss\"]\n",
        "n_epochs = len(loss)\n",
        "\n",
        "\n",
        "plt.plot(np.arange(n_epochs), loss, label=\"Training\")\n",
        "plt.plot(np.arange(n_epochs), val_loss, label=\"Validation\")\n",
        "plt.legend()\n",
        "plt.title(\"DeepClean Loss\")\n",
        "plt.xlabel(\"Epoch\")\n",
        "plt.ylabel(\"Loss\")\n",
        "#plt.ylim(0,0.01)\n",
        "plt.figure(figsize=(20,10))\n",
        "plt.savefig('DeepClean_loss')"
      ]
    },
    {
      "cell_type": "code",
      "execution_count": null,
      "id": "0c556a18",
      "metadata": {
        "id": "0c556a18",
        "outputId": "b6dd830c-b826-4eb6-953e-5100c6087758"
      },
      "outputs": [
        {
          "name": "stdout",
          "output_type": "stream",
          "text": [
            "13/13 [==============================] - 1s 19ms/step\n",
            "(409, 8192)\n"
          ]
        }
      ],
      "source": [
        "#model.predict() to produce predicted noise\n",
        "noise_predict = model.predict(witness_data_test)\n",
        "noise_predict = np.squeeze(noise_predict)\n",
        "\n",
        "#reshape so strain_test and predicted \n",
        "#noise are both 2d\n",
        "print(noise_predict.shape)"
      ]
    },
    {
      "cell_type": "code",
      "execution_count": null,
      "id": "971bef37",
      "metadata": {
        "id": "971bef37"
      },
      "outputs": [],
      "source": [
        "#API Call to send to Postprocessing, WIP\n",
        "def send_predicted_noise():\n",
        "    \"\"\"\n",
        "    noise_predict = predicted noise from model.predict()\n",
        "    must be postprocessed before subtracting from \n",
        "    time_strain data\n",
        "    \n",
        "    time_strain_data = original strain, subtract \n",
        "    noise_predict from it once its postprocessed to \n",
        "    get clean_data\n",
        "    \"\"\"\n",
        "    return noise_predict, tstrain_data_test"
      ]
    },
    {
      "cell_type": "markdown",
      "id": "680194bb",
      "metadata": {
        "id": "680194bb"
      },
      "source": [
        "# WIP\n",
        "\n",
        "Tasks:\n",
        "\n",
        "Modify parameters of interest and measure:\n",
        "Training time\n",
        "Validation time\n",
        "Training loss\n",
        "Validation loss"
      ]
    }
  ],
  "metadata": {
    "kernelspec": {
      "display_name": "Python 3 (ipykernel)",
      "language": "python",
      "name": "python3"
    },
    "language_info": {
      "codemirror_mode": {
        "name": "ipython",
        "version": 3
      },
      "file_extension": ".py",
      "mimetype": "text/x-python",
      "name": "python",
      "nbconvert_exporter": "python",
      "pygments_lexer": "ipython3",
      "version": "3.9.5"
    },
    "colab": {
      "provenance": []
    }
  },
  "nbformat": 4,
  "nbformat_minor": 5
}