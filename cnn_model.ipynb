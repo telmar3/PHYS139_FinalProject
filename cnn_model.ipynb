{
 "cells": [
  {
   "cell_type": "code",
   "execution_count": null,
   "id": "2aad5782",
   "metadata": {},
   "outputs": [],
   "source": [
    "#Implement neural network.\n",
    "\n",
    "#TOY MODEL COPY-PASTED FROM HW3\n",
    "#MODEL FOR PART B, MODIFIED TO REPLICATE\n",
    "#FIGURE 7 IN THE SOURCE WORK\n",
    "from tensorflow.keras import layers\n",
    "\n",
    "#Check input shape, given dataset is sampled at 4096Hz\n",
    "model = keras.models.Sequential(name=\"attempt_1\")\n",
    "#Convolution Layers\n",
    "model.add(layers.Conv1D(filters=21, kernel_size=5, strides=1, padding=\"same\", activation=\"tanh\",\\\n",
    "                        input_shape=(X_batch.shape[1], X_batch.shape[2])))\n",
    "model.add(layers.BatchNormalization())\n",
    "model.add(layers.Conv1D(filters=8, kernel_size=5, strides=2, padding=\"same\", activation=\"tanh\"))\n",
    "model.add(layers.BatchNormalization())\n",
    "model.add(layers.Conv1D(filters=16, kernel_size=5, strides=2, padding=\"same\", activation=\"tanh\"))\n",
    "model.add(layers.BatchNormalization())\n",
    "model.add(layers.Conv1D(filters=32, kernel_size=5, strides=2, padding=\"same\", activation=\"tanh\"))\n",
    "model.add(layers.BatchNormalization())\n",
    "model.add(layers.Conv1D(filters=64, kernel_size=5, strides=2, padding=\"same\", activation=\"tanh\"))\n",
    "model.add(layers.BatchNormalization())\n",
    "\n",
    "#Deconvolution Layers\n",
    "model.add(layers.Conv1DTranspose(filters=32, kernel_size=5, strides=2, padding=\"same\", activation=\"tanh\"))\n",
    "model.add(layers.BatchNormalization())\n",
    "model.add(layers.Conv1DTranspose(filters=16, kernel_size=5, strides=2, padding=\"same\", activation=\"tanh\"))\n",
    "model.add(layers.BatchNormalization())\n",
    "model.add(layers.Conv1DTranspose(filters=8, kernel_size=5, strides=2, padding=\"same\", activation=\"tanh\"))\n",
    "model.add(layers.BatchNormalization())\n",
    "model.add(layers.Conv1DTranspose(filters=21, kernel_size=5, strides=2, padding=\"same\", activation=\"tanh\"))\n",
    "model.add(layers.BatchNormalization())\n",
    "model.add(layers.Conv1D(filters=1, kernel_size=5, padding=\"same\", name = \"output\"))\n",
    "\n",
    "model.build((None, X_batch.shape[1], X_batch.shape[0]))\n",
    "model.summary()"
   ]
  },
  {
   "cell_type": "code",
   "execution_count": null,
   "id": "b0ef5e99",
   "metadata": {},
   "outputs": [],
   "source": [
    "#Toy code, need to double check lr_schedule parameters with literature\n",
    "\n",
    "lr_schedule = keras.optimizers.schedules.ExponentialDecay(initial_learning_rate=1e-3, decay_steps=100, decay_rate=0.8)\n",
    "\n",
    "\n",
    "model.compile(loss=\"binary_crossentropy\", optimizer=keras.optimizers.Adam(learning_rate=lr_schedule), metrics=[\"accuracy\"])\n",
    "\n",
    "results = model.fit(\n",
    "    X_batch,\n",
    "    y_batch,\n",
    "    batch_size=32,\n",
    "    epochs=10,\n",
    "    verbose=1,\n",
    "    validation_split=0.1,\n",
    "    callbacks=[\n",
    "        keras.callbacks.ReduceLROnPlateau(factor=0.5, patience=5, verbose=1, min_lr=1e-5),\n",
    "        keras.callbacks.EarlyStopping(patience=15, verbose=1),\n",
    "    ],\n",
    ")"
   ]
  }
 ],
 "metadata": {
  "kernelspec": {
   "display_name": "Python 3 (ipykernel)",
   "language": "python",
   "name": "python3"
  },
  "language_info": {
   "codemirror_mode": {
    "name": "ipython",
    "version": 3
   },
   "file_extension": ".py",
   "mimetype": "text/x-python",
   "name": "python",
   "nbconvert_exporter": "python",
   "pygments_lexer": "ipython3",
   "version": "3.9.5"
  }
 },
 "nbformat": 4,
 "nbformat_minor": 5
}
